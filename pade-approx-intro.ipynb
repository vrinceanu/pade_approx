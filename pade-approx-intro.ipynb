{
 "cells": [
  {
   "attachments": {},
   "cell_type": "markdown",
   "metadata": {},
   "source": [
    "## Fraction-free algorithm for [n-1, n] scalar Padé Approximation\n",
    "\n",
    "A discret one-channel signal $s_0, s_1, \\ldots,s_k,\\ldots$ has assocatied a signal generating series:\n",
    "$$ S(z) = s_0 + s_1 z + \\cdots + s_k z^k + \\cdots$$\n",
    "\n",
    "The poles, residues and zeros of the Padé rational approximant of $S(z)$ are used to characterize the signal. \n",
    "\n",
    "There are several algorithms available for calculating the Padé approximation. Many algorithms are unstable numerically because of loss of precision, specially for large orders. The following procedure is efficient and preserves the accuracy by using exact integer algebra by avoiding fractions. The cost of this benefit is that the numbers involved increase by few digits at each iteration, exceeding the available range of standard 4-byte integers available in computer hardware. However, integers in Python are not limited in size, and integer operations for `BigInt` are done quickly in hardware when possible, and much slower (by a factor of hundreds) in software when necessary. \n",
    "\n",
    "Define a set of polynomials by recursion;\n",
    "\n",
    "$$q_n(z) = e_{n-1} q_{n-1}(z) - z e_n  q_{n-2}(z)$$\n",
    "\n",
    "where $e_n$ is the coefficient of $z^n$ in the product $q_{n-1}(z) S(z)$\n",
    "\n",
    "$$e_n = \\text{Coeff}(q_{n-1} S(z), z^n)$$\n",
    "\n",
    "The recursion is started by $q_{-2}=0$, $q_{-1}(z) = 1$, $e_{-1} = 1$.\n",
    "\n",
    "We use `sympy` to explore this set of polynomials using symbolic algebra, instead of numbers. For small orders the code below calculates polynomials $q_k$ and coefficients $e_k$:"
   ]
  },
  {
   "cell_type": "code",
   "execution_count": 6,
   "metadata": {},
   "outputs": [],
   "source": [
    "import sympy as sp"
   ]
  },
  {
   "cell_type": "code",
   "execution_count": 7,
   "metadata": {},
   "outputs": [],
   "source": [
    "s = sp.symbols('s0,s1,s2,s3,s4,s5,s6,s7')\n",
    "z = sp.symbols('z')\n",
    "P, S = 3, 0\n",
    "for k in range(2*P+1):\n",
    "    S += s[k]*z**k\n",
    "q,e = {},{}\n",
    "q[-2], q[-1], e[-1] = 0, 1, 1\n",
    "for k in range(2*P+1):\n",
    "    e[k] = ((S*q[k-1]).expand()).coeff(z,k)\n",
    "    q[k] = (e[k-1]*q[k-1] - z*e[k]*q[k-2]).expand()"
   ]
  },
  {
   "cell_type": "markdown",
   "metadata": {},
   "source": [
    "**Point #1:** The degrees of of polynomials increase by one every other step"
   ]
  },
  {
   "cell_type": "code",
   "execution_count": 8,
   "metadata": {},
   "outputs": [
    {
     "data": {
      "text/plain": [
       "[0, 1, 1, 2, 2, 3, 3]"
      ]
     },
     "execution_count": 8,
     "metadata": {},
     "output_type": "execute_result"
    }
   ],
   "source": [
    "[sp.degree(q[k], gen=z) for k in range(2*P+1)]"
   ]
  },
  {
   "attachments": {},
   "cell_type": "markdown",
   "metadata": {},
   "source": [
    "This means that the degree of $q_k$ is half of order of $q_k$ plus one: $\\text{deg}(q_k(z)) = \\text{Floor}((k+1)/2)$\n",
    "\n",
    "**Point #2:** Each polynomial $q_k$ is exactly divisible by $e_{k-2}$\n",
    "\n",
    "For example $q_3$ is exactly divisible by $e_1$"
   ]
  },
  {
   "cell_type": "code",
   "execution_count": 9,
   "metadata": {},
   "outputs": [
    {
     "data": {
      "text/latex": [
       "$\\displaystyle s_{0}^{2} s_{2} - s_{0}^{2} s_{3} z - s_{0} s_{1}^{2} + s_{0} s_{1} s_{2} z + s_{0} s_{1} s_{3} z^{2} - s_{0} s_{2}^{2} z^{2}$"
      ],
      "text/plain": [
       "s0**2*s2 - s0**2*s3*z - s0*s1**2 + s0*s1*s2*z + s0*s1*s3*z**2 - s0*s2**2*z**2"
      ]
     },
     "execution_count": 9,
     "metadata": {},
     "output_type": "execute_result"
    }
   ],
   "source": [
    "(q[3]/e[1]).expand()"
   ]
  },
  {
   "cell_type": "markdown",
   "metadata": {},
   "source": [
    "and  $q_4$ is exactly divisible by $e_2$, and  by $e_1$"
   ]
  },
  {
   "cell_type": "code",
   "execution_count": 10,
   "metadata": {},
   "outputs": [
    {
     "data": {
      "text/latex": [
       "$\\displaystyle s_{0}^{2} \\left(s_{1} s_{3} - s_{1} s_{4} z - s_{2}^{2} + s_{2} s_{3} z + s_{2} s_{4} z^{2} - s_{3}^{2} z^{2}\\right)$"
      ],
      "text/plain": [
       "s0**2*(s1*s3 - s1*s4*z - s2**2 + s2*s3*z + s2*s4*z**2 - s3**2*z**2)"
      ]
     },
     "execution_count": 10,
     "metadata": {},
     "output_type": "execute_result"
    }
   ],
   "source": [
    "(q[4]/e[2]/e[1]).simplify()"
   ]
  },
  {
   "cell_type": "markdown",
   "metadata": {},
   "source": [
    "This means that a more efficient recursion, which keeps the growth of the coefficients of the polynomials under control, can be defined as\n",
    "\n",
    "$$q_n(z) = \\frac{e_{n-1}}{e_{n-2}} q_{n-1}(z) - z \\frac{e_n}{e_{n-2}}  q_{n-2}(z)$$\n",
    "\n",
    "The case when $e_{n-2}$ is accidentally zero will need to be dealt separately.\n",
    "\n",
    "\n",
    "We check if this true directly, and adding $e_{-1} = 1$"
   ]
  },
  {
   "cell_type": "code",
   "execution_count": 11,
   "metadata": {},
   "outputs": [],
   "source": [
    "s = sp.symbols('s0,s1,s2,s3,s4,s5,s6,s7')\n",
    "z = sp.symbols('z')\n",
    "P, S = 3, 0\n",
    "for k in range(2*P+1):\n",
    "    S += s[k]*z**k\n",
    "q,e = {},{}\n",
    "q[-2], q[-1], e[-2], e[-1] = 0,1,1,1\n",
    "for k in range(2*P+1):\n",
    "    e[k] = ((S*q[k-1]).expand()).coeff(z,k)\n",
    "    q[k] = (((e[k-1]*q[k-1]- z*e[k]*q[k-2])/e[k-2]).expand()).simplify()"
   ]
  },
  {
   "cell_type": "markdown",
   "metadata": {},
   "source": [
    "Indeed, all divisions are exact and the resulting polynomials are fraction free. All polynomials have integer coefficients if the signal have integers, such that there are no error associated with loss of precision due to finite representation of floating point numbers in computers. We can list few polynomials:"
   ]
  },
  {
   "cell_type": "code",
   "execution_count": 12,
   "metadata": {},
   "outputs": [
    {
     "data": {
      "text/plain": [
       "{-2: 0,\n",
       " -1: 1,\n",
       " 0: 1,\n",
       " 1: s0 - s1*z,\n",
       " 2: s1 - s2*z,\n",
       " 3: s0*s2 - s0*s3*z - s1**2 + s1*s2*z + s1*s3*z**2 - s2**2*z**2,\n",
       " 4: s1*s3 - s1*s4*z - s2**2 + s2*s3*z + s2*s4*z**2 - s3**2*z**2,\n",
       " 5: s0*s2*s4 - s0*s2*s5*z - s0*s3**2 + s0*s3*s4*z + s0*s3*s5*z**2 - s0*s4**2*z**2 - s1**2*s4 + s1**2*s5*z + 2*s1*s2*s3 - s1*s2*s4*z - s1*s2*s5*z**2 - s1*s3**2*z + s1*s3*s4*z**2 - s1*s3*s5*z**3 + s1*s4**2*z**3 - s2**3 + s2**2*s3*z + s2**2*s4*z**2 + s2**2*s5*z**3 - s2*s3**2*z**2 - 2*s2*s3*s4*z**3 + s3**3*z**3,\n",
       " 6: s1*s3*s5 - s1*s3*s6*z - s1*s4**2 + s1*s4*s5*z + s1*s4*s6*z**2 - s1*s5**2*z**2 - s2**2*s5 + s2**2*s6*z + 2*s2*s3*s4 - s2*s3*s5*z - s2*s3*s6*z**2 - s2*s4**2*z + s2*s4*s5*z**2 - s2*s4*s6*z**3 + s2*s5**2*z**3 - s3**3 + s3**2*s4*z + s3**2*s5*z**2 + s3**2*s6*z**3 - s3*s4**2*z**2 - 2*s3*s4*s5*z**3 + s4**3*z**3}"
      ]
     },
     "execution_count": 12,
     "metadata": {},
     "output_type": "execute_result"
    }
   ],
   "source": [
    "q"
   ]
  },
  {
   "attachments": {},
   "cell_type": "markdown",
   "metadata": {},
   "source": [
    "**Point #3:** The coefficient of $z^n$ of $q_{n}(z) S(z)$ is zero. \n",
    "\n",
    "Indeed, from recursion we get:\n",
    "\n",
    "$$\\text{Coeff}(q_{n}(z) S(z), z^n) = e_{n-1} \\text{Coeff}(q_{n-1} S(z), z^n) - e_n \\text{Coeff}(q_{n-2}(z) S(z), z^{n-1}) = e_{n-1} e_n - e_n e_{n-1} = 0$$\n",
    "\n",
    "This means that the product $q_{n}(z) S(z)$ has the following structure\n",
    "$$q_n(z)S(z) = p_n(z) + 0 \\times z^n + e_{n+1} z^{n+1} + {\\cal O}(z^{n+2})$$\n",
    "\n",
    "with a polynomial $p_n(z)$ defined as the truncation of $q_n(z)$ up to power $z^{n-1}$: $p_n(z) = \\text{Trunc}(q_n(z) S(z), z^{n-1})$\n",
    "\n",
    "**Point #4:** The associated polynomials $p_n(z)$ have the same recursion relation as $q_n(z)$. This can be seen from\n",
    "$$ 0 = q_n(z) - e_{n-1} q_{n-1}(z) + z e_n  q_{n-2}(z) = p_n(z) - e_{n-1} p_{n-1}(z) + z e_n  p_{n-2}(z) + {\\cal O}(z^n)$$\n",
    "\n",
    "We obtain polynomials $p_k$ by truncating $q_k(z) S(z)$. Since they have exactly the same recursion, the degree of each polynomial $p_k$ also increases by one every second step, but\n",
    "$\\text{Deg}(p_k(z)) = \\text{Floor}(k/2)$.\n"
   ]
  },
  {
   "cell_type": "code",
   "execution_count": 13,
   "metadata": {},
   "outputs": [
    {
     "data": {
      "text/plain": [
       "[0, 0, 1, 1, 2, 2, 3]"
      ]
     },
     "execution_count": 13,
     "metadata": {},
     "output_type": "execute_result"
    }
   ],
   "source": [
    "exp = sp.Wild('exp')\n",
    "p = [(q[k]*S).expand().replace(pow(z,exp), lambda exp: 0 if exp > k else pow(z,exp)) for k in range(2*P+1)]\n",
    "[sp.degree(p[k], gen=z) for k in range(2*P+1)]"
   ]
  },
  {
   "cell_type": "markdown",
   "metadata": {},
   "source": [
    "We list few $p$ polynomials below:"
   ]
  },
  {
   "cell_type": "code",
   "execution_count": 14,
   "metadata": {},
   "outputs": [
    {
     "data": {
      "text/plain": [
       "[s0,\n",
       " s0**2,\n",
       " s0*s1 - s0*s2*z + s1**2*z,\n",
       " s0**2*s2 - s0**2*s3*z - s0*s1**2 + 2*s0*s1*s2*z - s1**3*z,\n",
       " s0*s1*s3 - s0*s1*s4*z - s0*s2**2 + s0*s2*s3*z + s0*s2*s4*z**2 - s0*s3**2*z**2 + s1**2*s3*z - s1**2*s4*z**2 - s1*s2**2*z + 2*s1*s2*s3*z**2 - s2**3*z**2,\n",
       " s0**2*s2*s4 - s0**2*s2*s5*z - s0**2*s3**2 + s0**2*s3*s4*z + s0**2*s3*s5*z**2 - s0**2*s4**2*z**2 - s0*s1**2*s4 + s0*s1**2*s5*z + 2*s0*s1*s2*s3 - 2*s0*s1*s2*s5*z**2 - 2*s0*s1*s3**2*z + 2*s0*s1*s3*s4*z**2 - s0*s2**3 + s0*s2**2*s3*z + 2*s0*s2**2*s4*z**2 - 2*s0*s2*s3**2*z**2 - s1**3*s4*z + s1**3*s5*z**2 + 2*s1**2*s2*s3*z - 2*s1**2*s2*s4*z**2 - s1**2*s3**2*z**2 - s1*s2**3*z + 3*s1*s2**2*s3*z**2 - s2**4*z**2,\n",
       " s0*s1*s3*s5 - s0*s1*s3*s6*z - s0*s1*s4**2 + s0*s1*s4*s5*z + s0*s1*s4*s6*z**2 - s0*s1*s5**2*z**2 - s0*s2**2*s5 + s0*s2**2*s6*z + 2*s0*s2*s3*s4 - s0*s2*s3*s5*z - s0*s2*s3*s6*z**2 - s0*s2*s4**2*z + s0*s2*s4*s5*z**2 - s0*s2*s4*s6*z**3 + s0*s2*s5**2*z**3 - s0*s3**3 + s0*s3**2*s4*z + s0*s3**2*s5*z**2 + s0*s3**2*s6*z**3 - s0*s3*s4**2*z**2 - 2*s0*s3*s4*s5*z**3 + s0*s4**3*z**3 + s1**2*s3*s5*z - s1**2*s3*s6*z**2 - s1**2*s4**2*z + s1**2*s4*s5*z**2 + s1**2*s4*s6*z**3 - s1**2*s5**2*z**3 - s1*s2**2*s5*z + s1*s2**2*s6*z**2 + 2*s1*s2*s3*s4*z - 2*s1*s2*s3*s6*z**3 - 2*s1*s2*s4**2*z**2 + 2*s1*s2*s4*s5*z**3 - s1*s3**3*z + s1*s3**2*s4*z**2 + 2*s1*s3**2*s5*z**3 - 2*s1*s3*s4**2*z**3 - s2**3*s5*z**2 + s2**3*s6*z**3 + 2*s2**2*s3*s4*z**2 - 2*s2**2*s3*s5*z**3 - s2**2*s4**2*z**3 - s2*s3**3*z**2 + 3*s2*s3**2*s4*z**3 - s3**4*z**3]"
      ]
     },
     "execution_count": 14,
     "metadata": {},
     "output_type": "execute_result"
    }
   ],
   "source": [
    "p"
   ]
  },
  {
   "attachments": {},
   "cell_type": "markdown",
   "metadata": {},
   "source": [
    "**Point #5:** Probably the most important point of the discussion is that the rational function $R_n(z) = p_n(z)/q_n(z)$ is a Padé  approximation for series $S(z)$.\n",
    "\n",
    "The order of the approximant is $[\\text{Floor}(n/2), \\text{Floor}((n+1/2))]$. This is because\n",
    "$$q_n(z) S(z) - p_n(z) = {\\cal O}(z^{n+1})$$\n",
    "\n",
    "-------------------\n",
    "\n",
    "We can test this idea for the series resulting from rational function with 2 poles. Let start with\n",
    "$$ S(z) = \\frac{r_1}{p_1 z - 1} + \\frac{r_2}{p_2 z - 1}$$\n",
    "The Taylor expansion is $$S(z) = \\sum_{k=0} s_k z^k = \\sum_{k=0} (r_1 p_1^k + r_2 p_2^k) z^k$$\n",
    "\n",
    "The first 4 terms $s_0$, $s_1$, $s_2$, and $s_3$ should be enough to reconstruct the original rational function. In general, for a rational function with $P$ poles, like in the example above with $P=2$, we need the first $2P$ terms $s_0, \\ldots, s_{2P-1}$ to generate $q$ polinomials up to $q_{2P-1}$ which has degree $P$, and correspondingly $p$ polynomials up to $p_{2P-1}$ with degree $P-1$. Note that these polynomials have a total of $P+1+P = 2P+1$ unknown coefficients, but the rational approximant $R_{2P-1}(z)$ has exactly $2P$ unknown coefficients, corresponding to the size of the signal."
   ]
  },
  {
   "cell_type": "code",
   "execution_count": 15,
   "metadata": {},
   "outputs": [],
   "source": [
    "import sympy as sp\n",
    "z,r1,p1,r2,p2= sp.symbols('z,r1,p1,r2,p2')\n",
    "s = {}\n",
    "P = 2\n",
    "G = r1/(z*p1-1) + r2/(z*p2-1)\n",
    "term = sp.series(G,z,0,n=None)\n",
    "for k in range(2*P):\n",
    "    s[k]=next(term).coeff(z,k)"
   ]
  },
  {
   "cell_type": "code",
   "execution_count": 16,
   "metadata": {},
   "outputs": [],
   "source": [
    "S,P = 0,2\n",
    "q,e = {},{}\n",
    "for k in range(2*P):\n",
    "    S += s[k]*z**k\n",
    "q[-2], q[-1], e[-2], e[-1] = 0,1,1,1\n",
    "for k in range(2*P):\n",
    "    e[k] = ((S*q[k-1]).expand()).coeff(z,k)\n",
    "    q[k] = (((e[k-1]*q[k-1]- z*e[k]*q[k-2])/e[k-2]).expand()).simplify()"
   ]
  },
  {
   "cell_type": "markdown",
   "metadata": {},
   "source": [
    "Polynomial $q_3$ has degree 2 and its factorization is what we expect."
   ]
  },
  {
   "cell_type": "code",
   "execution_count": 17,
   "metadata": {},
   "outputs": [
    {
     "data": {
      "text/latex": [
       "$\\displaystyle r_{1} r_{2} \\left(p_{1} z - 1\\right) \\left(p_{2} z - 1\\right) \\left(p_{1}^{2} - 2 p_{1} p_{2} + p_{2}^{2}\\right)$"
      ],
      "text/plain": [
       "r1*r2*(p1*z - 1)*(p2*z - 1)*(p1**2 - 2*p1*p2 + p2**2)"
      ]
     },
     "execution_count": 17,
     "metadata": {},
     "output_type": "execute_result"
    }
   ],
   "source": [
    "sp.factor(q[3],gens=z)"
   ]
  },
  {
   "cell_type": "markdown",
   "metadata": {},
   "source": [
    "The numerator $p_3$ has degree 1. The rational function $p_3(z)/q_3(z)$ is identical to the original, showing that the procedure works as expected."
   ]
  },
  {
   "cell_type": "code",
   "execution_count": 18,
   "metadata": {},
   "outputs": [
    {
     "data": {
      "text/latex": [
       "$\\displaystyle \\frac{r_{1}}{p_{1} z - 1} + \\frac{r_{2}}{p_{2} z - 1}$"
      ],
      "text/plain": [
       "r1/(p1*z - 1) + r2/(p2*z - 1)"
      ]
     },
     "execution_count": 18,
     "metadata": {},
     "output_type": "execute_result"
    }
   ],
   "source": [
    "exp = sp.Wild('exp')\n",
    "p = [(q[k]*S).expand().replace(pow(z,exp), lambda exp: 0 if exp > k else pow(z,exp)) for k in range(2*P)]\n",
    "sp.apart((p[3]/q[3]).simplify(),z)"
   ]
  },
  {
   "cell_type": "markdown",
   "metadata": {},
   "source": [
    "At this point we can obtain the poles and the residues of the rational approximant $R(z)$ by finding the roots of the last $q(z)$ polynomial. The best polynomial root finding algorithms rely on solving an eigenvalue/eigenvector problem for a matrix associtated with the polynomial. Instead, we can go one step further and expose the matrix that is associated with both $p$ and $q$ polynomials through the recurrence equations that will deliver a tridiagonal matrix, making the eigensoler's job even easier.\n",
    "\n",
    "The degree of odd order polyomials: $q_{-1}$, $q_1$, $q_3$,$\\ldots$ increases by one.\n",
    "It is useful to work only with odd-order polynomials. For that, we neeed to find a double step recursion relation."
   ]
  },
  {
   "cell_type": "code",
   "execution_count": 19,
   "metadata": {},
   "outputs": [],
   "source": [
    "import sympy as sp\n",
    "e = sp.Function('e')\n",
    "O = sp.Function('O')\n",
    "k,n,z = sp.symbols('k,n,z')\n",
    "u = sp.Function('u')"
   ]
  },
  {
   "cell_type": "markdown",
   "metadata": {},
   "source": [
    "We generate generic polynomial recursion, here $O_n$ can be either $q_n$ or $p_n$, for order $n$, $n+1$, and $n+2$, and use the three equations to remove orders $n-1$ and $n+1$, such that, at the end, we have one recursion that relates orders $n-2$, $n$ and $n+2$, in both cases."
   ]
  },
  {
   "cell_type": "code",
   "execution_count": 20,
   "metadata": {},
   "outputs": [
    {
     "data": {
      "text/latex": [
       "$\\displaystyle \\frac{z^{2} O{\\left(n - 2 \\right)} e{\\left(n + 1 \\right)}}{e^{2}{\\left(n - 1 \\right)}} + \\frac{z O{\\left(n \\right)} e{\\left(n - 2 \\right)} e{\\left(n + 1 \\right)}}{e{\\left(n \\right)} e^{2}{\\left(n - 1 \\right)}} + \\frac{z O{\\left(n \\right)} e{\\left(n + 2 \\right)}}{e{\\left(n \\right)} e{\\left(n + 1 \\right)}} - \\frac{O{\\left(n \\right)}}{e{\\left(n - 1 \\right)}} + \\frac{O{\\left(n + 2 \\right)}}{e{\\left(n + 1 \\right)}}$"
      ],
      "text/plain": [
       "z**2*O(n - 2)*e(n + 1)/e(n - 1)**2 + z*O(n)*e(n - 2)*e(n + 1)/(e(n)*e(n - 1)**2) + z*O(n)*e(n + 2)/(e(n)*e(n + 1)) - O(n)/e(n - 1) + O(n + 2)/e(n + 1)"
      ]
     },
     "execution_count": 20,
     "metadata": {},
     "output_type": "execute_result"
    }
   ],
   "source": [
    "Gn = O(n)-e(n-1)/e(n-2)*O(n-1)+z*e(n)/e(n-2)*O(n-2)\n",
    "Gn1 = (Gn.replace(n,n+1))\n",
    "Gn2 = (Gn.replace(n,n+2))\n",
    "H = (z*Gn*e(n-2)/e(n-1)**2*e(n+1)/e(n) + Gn2/e(n+1) + Gn1/e(n)).expand()\n",
    "H"
   ]
  },
  {
   "cell_type": "markdown",
   "metadata": {},
   "source": [
    "A further simplification is obtained if we define for odd orders $n=2k-1$, $q_n = e_{n-1} u_k z^k$ and $p_n = e_{n-1} v_k z^k$, with $k = 0, 1, 2\\ldots, P$ "
   ]
  },
  {
   "cell_type": "code",
   "execution_count": 21,
   "metadata": {},
   "outputs": [
    {
     "data": {
      "text/latex": [
       "$\\displaystyle - \\frac{z e{\\left(2 k \\right)} e{\\left(2 k - 4 \\right)} u{\\left(k - 1 \\right)}}{e^{2}{\\left(2 k - 2 \\right)}} - \\frac{z e{\\left(2 k \\right)} e{\\left(2 k - 3 \\right)} u{\\left(k \\right)}}{e{\\left(2 k - 2 \\right)} e{\\left(2 k - 1 \\right)}} - z u{\\left(k + 1 \\right)} - \\frac{z e{\\left(2 k - 2 \\right)} e{\\left(2 k + 1 \\right)} u{\\left(k \\right)}}{e{\\left(2 k \\right)} e{\\left(2 k - 1 \\right)}} + u{\\left(k \\right)}$"
      ],
      "text/plain": [
       "-z*e(2*k)*e(2*k - 4)*u(k - 1)/e(2*k - 2)**2 - z*e(2*k)*e(2*k - 3)*u(k)/(e(2*k - 2)*e(2*k - 1)) - z*u(k + 1) - z*e(2*k - 2)*e(2*k + 1)*u(k)/(e(2*k)*e(2*k - 1)) + u(k)"
      ]
     },
     "execution_count": 21,
     "metadata": {},
     "output_type": "execute_result"
    }
   ],
   "source": [
    "H1 =  - H.replace(n, 2*k-1)\n",
    "H2 = H1.subs(O(2*k-3),u(k-1)*z**(-1)*e(2*k-4)).replace(O(2*k-1),u(k)*e(2*k-2)).replace(O(2*k+1),u(k+1)*z*e(2*k))\n",
    "H2 = H2.simplify()\n",
    "H2"
   ]
  },
  {
   "cell_type": "markdown",
   "metadata": {},
   "source": [
    "The recursion equation have the following structure: $u_k - z (b_k u_{k-1} + a_k u_k + u_{k+1}) = 0$, where coefficients $a_k$ and $b_k$ are defined as"
   ]
  },
  {
   "cell_type": "code",
   "execution_count": 22,
   "metadata": {},
   "outputs": [
    {
     "data": {
      "text/latex": [
       "$\\displaystyle \\frac{e{\\left(2 k \\right)} e{\\left(2 k - 3 \\right)}}{e{\\left(2 k - 2 \\right)} e{\\left(2 k - 1 \\right)}} + \\frac{e{\\left(2 k - 2 \\right)} e{\\left(2 k + 1 \\right)}}{e{\\left(2 k \\right)} e{\\left(2 k - 1 \\right)}}$"
      ],
      "text/plain": [
       "e(2*k)*e(2*k - 3)/(e(2*k - 2)*e(2*k - 1)) + e(2*k - 2)*e(2*k + 1)/(e(2*k)*e(2*k - 1))"
      ]
     },
     "execution_count": 22,
     "metadata": {},
     "output_type": "execute_result"
    }
   ],
   "source": [
    "a = -((H2.coeff(u(k)) - 1)/z).expand()\n",
    "b = -(H2.coeff(u(k-1))/z).expand()\n",
    "a"
   ]
  },
  {
   "cell_type": "code",
   "execution_count": 23,
   "metadata": {},
   "outputs": [
    {
     "data": {
      "text/latex": [
       "$\\displaystyle \\frac{e{\\left(2 k \\right)} e{\\left(2 k - 4 \\right)}}{e^{2}{\\left(2 k - 2 \\right)}}$"
      ],
      "text/plain": [
       "e(2*k)*e(2*k - 4)/e(2*k - 2)**2"
      ]
     },
     "execution_count": 23,
     "metadata": {},
     "output_type": "execute_result"
    }
   ],
   "source": [
    "b"
   ]
  },
  {
   "cell_type": "markdown",
   "metadata": {},
   "source": [
    "We can verify this, and see it is identical with the recursion equation for $u_k$."
   ]
  },
  {
   "cell_type": "code",
   "execution_count": 24,
   "metadata": {},
   "outputs": [
    {
     "data": {
      "text/latex": [
       "$\\displaystyle - \\frac{z e{\\left(2 k \\right)} e{\\left(2 k - 4 \\right)} u{\\left(k - 1 \\right)}}{e^{2}{\\left(2 k - 2 \\right)}} - \\frac{z e{\\left(2 k \\right)} e{\\left(2 k - 3 \\right)} u{\\left(k \\right)}}{e{\\left(2 k - 2 \\right)} e{\\left(2 k - 1 \\right)}} - z u{\\left(k + 1 \\right)} - \\frac{z e{\\left(2 k - 2 \\right)} e{\\left(2 k + 1 \\right)} u{\\left(k \\right)}}{e{\\left(2 k \\right)} e{\\left(2 k - 1 \\right)}} + u{\\left(k \\right)}$"
      ],
      "text/plain": [
       "-z*e(2*k)*e(2*k - 4)*u(k - 1)/e(2*k - 2)**2 - z*e(2*k)*e(2*k - 3)*u(k)/(e(2*k - 2)*e(2*k - 1)) - z*u(k + 1) - z*e(2*k - 2)*e(2*k + 1)*u(k)/(e(2*k)*e(2*k - 1)) + u(k)"
      ]
     },
     "execution_count": 24,
     "metadata": {},
     "output_type": "execute_result"
    }
   ],
   "source": [
    "(u(k) - z*(b*u(k-1) + a*u(k) + u(k+1))).expand()"
   ]
  },
  {
   "cell_type": "markdown",
   "metadata": {},
   "source": [
    "The first equation for $k=0$ is treated separately. For $q$ polynomials we have \n",
    "$$q_0(z) = \\frac{e_{-1}}{e_{-2}} q_{-1}(z) \\quad and\\quad  q_1(z) = \\frac{e_0}{e_{-1}} q_0(z) - z \\frac{e_1}{e_{-1}} q_{-1}(z)$$\n",
    "and combining the two initial equations:\n",
    "$$q_1(z) = \\frac{e_{0}}{e_{-2}} q_{-1}(z) - z \\frac{e_{1}}{e_{-1}} q_{-1}(z)$$\n",
    "or\n",
    "$$ \\frac 1{e_{-2}} q_{-1}(z) - z\\frac{e_1}{e_0 e_{-1}} q_{-1}(z) - \\frac 1{e_{0}} q_{1}(z) = 0$$\n",
    "but $q_{-1} = u_0 e_{-2}$ and $q_1 = u_1 e_{0} z$, so in terms of the new functions $u_n$ the first equation for $q$ is\n",
    "$$u_0(z) - z[\\frac{e_1 e_{-2}}{e_0 e_{-1}} u_0(z) + u_1(z)] = 0$$\n",
    "This is consistent with the general recursion equation if $b_0 = 0$ and $a_0 = \\frac{e_1 e_{-2}}{e_0 e_{-1}}$"
   ]
  },
  {
   "cell_type": "code",
   "execution_count": 25,
   "metadata": {},
   "outputs": [
    {
     "data": {
      "text/latex": [
       "$\\displaystyle \\frac{e{\\left(-3 \\right)} e{\\left(0 \\right)}}{e{\\left(-2 \\right)} e{\\left(-1 \\right)}} + \\frac{e{\\left(-2 \\right)} e{\\left(1 \\right)}}{e{\\left(-1 \\right)} e{\\left(0 \\right)}}$"
      ],
      "text/plain": [
       "e(-3)*e(0)/(e(-2)*e(-1)) + e(-2)*e(1)/(e(-1)*e(0))"
      ]
     },
     "execution_count": 25,
     "metadata": {},
     "output_type": "execute_result"
    }
   ],
   "source": [
    "a.replace(k,0)"
   ]
  },
  {
   "cell_type": "markdown",
   "metadata": {},
   "source": [
    "The first equation $k=0$ is a little bit different for $p_n$ polynomials and $v_k$ functions:\n",
    "\n",
    "$$p_{1}(z) = \\frac{e_0}{e_{-1}} p_0(z) - z \\frac{e_1}{e_{-1}} p_{-1}(z)$$ \n",
    "\n",
    "or in terms of $v_0$ and $v_1$\n",
    "\n",
    "$$z v_1(z) = s_0 - z \\frac{e_1 e_{-2}}{e_0 e_{-1}} v_0$$\n",
    "\n",
    "because $p_0 = s_0$ and $e_{-1} = 1$. Since $P_{-1}$ and $v_0$ have to be both zero since $p_1(z) = s_0^2$, we can formally write the $k=0$ equation as\n",
    "$v_0 - z (a_0 v_0 + v_1) = -s_0$\n",
    "\n",
    "The whole set of equations, combining $q$ and $p$ equations, is\n",
    "\n",
    "$$u_0 - z (a_0 u_0 + u_1) = 0$$\n",
    "$$v_0 - z (a_0 v_0 + v_1) = -s_0$$\n",
    "$$ \\vdots \\quad \\quad \\quad \\quad  \\vdots \\quad \\quad \\quad \\quad \\vdots$$\n",
    "$$u_k - z (b_k u_{k-1} + a_k u_k + u_{k+1}) = 0$$\n",
    "$$v_k - z (b_k v_{k-1} + a_k v_k + v_{k+1}) = 0$$\n",
    "$$ \\vdots \\quad \\quad \\quad \\quad  \\vdots \\quad \\quad \\quad \\quad \\vdots$$\n",
    "$$u_{P-1} - z (b_{P-1} u_{P-2} + a_{P-1} u_{P-1})  = z u_{P}$$\n",
    "$$v_{P-1} - z (b_{P-1} v_{P-2} + a_{P-1} v_{P-1}) = z v_{P}$$\n",
    "\n",
    "Now if we multiply each $u$ equation with $v_P/u_P$ and subtract the corresponding $v$ equation from it, we finaly obtain\n",
    "\n",
    "$$\\left(u_0\\frac{v_P}{u_P}  - v_0\\right) - z\\left[ a_0 \\left(u_0\\frac{v_P}{u_P} - v_0\\right) + \\left(u_1\\frac{v_P}{u_P} - v_1\\right)\\right] = s_0$$\n",
    "$$ \\vdots \\quad \\quad \\quad \\quad  \\vdots \\quad \\quad \\quad \\quad \\vdots$$\n",
    "$$\\left(u_k\\frac{v_P}{u_P} - v_k\\right) - z\\left[ b_k \\left(u_{k-1}\\frac{v_P}{u_P} - v_{k-1}\\right) + a_k \\left(u_k\\frac{v_P}{u_P} - v_k\\right) + \\left(u_{k+1}\\frac{v_P}{u_P} - v_{k+1}\\right)\\right] = 0$$\n",
    "$$ \\vdots \\quad \\quad \\quad \\quad  \\vdots \\quad \\quad \\quad \\quad \\vdots$$\n",
    "$$\\left(u_{P-1}\\frac{v_P}{u_P} - v_{P-1}\\right) - z\\left[ b_{P-1} \\left(u_{P-2}\\frac{v_P}{u_P} - v_{P-2}\\right) + a_{P-1} \\left(u_{P-1}\\frac{v_P}{u_P} - v_{P-1}\\right)\\right]= 0$$\n",
    "\n",
    "By defining a vector $(w_0, w_1, \\ldots, w_{P-1})$ with components $w_k = u_k v_P/u_P - v_k$ we can write the set of equation in a matrix form\n",
    "\n",
    "$$({\\bf I} - z {\\bf J}) (w_0, w_1, \\ldots, w_{P-1})^T = s_0 (1, 0, \\ldots, 0)^T$$\n",
    "\n",
    "where the $P\\times P$ Jacobi tridiagonal matrix (operator) $\\bf J$ is\n",
    "\n",
    "$$ {\\bf J} = \\left(\\begin{array}{ccccc}\n",
    "a_0 & 1   &   &  & \\\\\n",
    "b_1 & a_1 & 1 &  & \\\\\n",
    "0   & b_2 & a_2 & 1 & \\\\\n",
    "& &  \\ddots & \\ddots & \\\\\n",
    "& & & b_{P-1} & a_{P-1}\n",
    "\\end{array}\\right)$$\n",
    "\n",
    "If we multiply on the left hand side by the inverse of $({\\bf I} - z {\\bf J})$ and then by the vector $(1, 0, \\ldots, 0)$ we obtain that \n",
    "\n",
    "$$w_0 = s_0 (1, 0, \\ldots) ({\\bf I} - z {\\bf J})^{-1} (1, 0, \\ldots, 0)^T$$\n",
    "\n",
    "but \n",
    "\n",
    "$$w_0 = u_0 \\frac{v_P}{u_P} - v_0 = \\frac{q_{-1}}{e_{-2}} \\frac{q_{2P-1}(z)}{p_{2P-1}(z)} = R_{2P-1}(z)$$\n",
    "\n",
    "**Point #6:** The Padé  approximant for a sequence $s_0, s_1,\\ldots s_{2P}$ is given by\n",
    "\n",
    "$$ R_{2P-1}(z) = s_0 (1, 0, \\ldots) V^{-1} ({\\bf I} - z {\\bf \\Lambda})^{-1} V (1, 0, \\ldots, 0)^T$$\n",
    "\n",
    "If the matrix ${\\bf J}$ is non-defective it has the spectral decomposition ${\\bf J} = {\\bf V} {\\bf \\Lambda} {\\bf V}^{-1}$, where $\\bf \\Lambda$ is the eigenvalues diagonal matrix, and $\\bf V$ is the matrix with eigenvectors along the columns.\n",
    "We can finally write\n",
    "\n",
    "$$R_{2P-1}(z) = s_0 \\sum_{j=1}^{P} \\frac{V_{1j} V^{-1}_{j1}}{1 - z \\lambda_j}$$\n",
    "\n",
    "which shows that the poles of the Padé approximant are $\\zeta_j = 1/\\lambda_j$, the reciprocals of the eigenvalues of the J matrix, and the corresponding residues relate to the first component of each eigenvector as: $\\rho_j = - s_0 V_{1j} V^{-1}_{j1}/\\lambda_j$\n",
    "\n",
    "The Padé approximant for a signal $s_0, s_1,\\ldots, s_{2P}$ is therefore\n",
    "\n",
    "$$R_{2P-1}(z) = \\sum_{j=1}^P \\frac{\\rho_j}{z - \\zeta_j}$$\n",
    "\n",
    "---------\n",
    "\n",
    "Let's test this with a signal that has a generating function with two poles:\n",
    "$$ S(z) = \\frac{r_1}{p_1 z - 1} + \\frac{r_2}{p_2 z - 1}$$\n"
   ]
  },
  {
   "cell_type": "code",
   "execution_count": 26,
   "metadata": {},
   "outputs": [],
   "source": [
    "import sympy as sp\n",
    "z,r1,p1,r2,p2= sp.symbols('z,r1,p1,r2,p2')\n",
    "s = {}\n",
    "P = 2\n",
    "G = r1/(z*p1-1) + r2/(z*p2-1)\n",
    "term = sp.series(G,z,0,n=None)\n",
    "for k in range(2*P):\n",
    "    s[k]=next(term).coeff(z,k)"
   ]
  },
  {
   "cell_type": "code",
   "execution_count": 27,
   "metadata": {},
   "outputs": [],
   "source": [
    "S,P = 0,2\n",
    "q,e = {},{}\n",
    "for k in range(2*P):\n",
    "    S += s[k]*z**k\n",
    "q[-2], q[-1], e[-2], e[-1] = 0,1,1,1\n",
    "for k in range(2*P):\n",
    "    e[k] = ((S*q[k-1]).expand()).coeff(z,k)\n",
    "    q[k] = (((e[k-1]*q[k-1]- z*e[k]*q[k-2])/e[k-2]).expand()).simplify()"
   ]
  },
  {
   "cell_type": "code",
   "execution_count": 31,
   "metadata": {},
   "outputs": [],
   "source": [
    "J = sp.matrices.zeros(P)\n",
    "for k in range(P):\n",
    "    if k == 0:\n",
    "        J[k,k] = e[-2]//e[-1]*e[1]/e[0]\n",
    "    else:\n",
    "        J[k,k] = e[2*k]/e[2*k-1]*e[2*k-3]/e[2*k-2] + e[2*k-2]/e[2*k-1]*e[2*k+1]/e[2*k]\n",
    "        J[k,k-1]=e[2*k-4]/e[2*k-2]*e[2*k]/e[2*k-2]\n",
    "    if k != P-1:\n",
    "        J[k,k+1]=1\n",
    "J.simplify()"
   ]
  },
  {
   "cell_type": "code",
   "execution_count": 32,
   "metadata": {},
   "outputs": [],
   "source": [
    "V,D = J.diagonalize()\n",
    "D.simplify()\n",
    "V1 = V.inv()\n",
    "R = 0\n",
    "for j in range(P):\n",
    "    R += sp.simplify(s[0]*V[0,j]*V1[j,0]/(1-z*D[j,j]))"
   ]
  },
  {
   "cell_type": "code",
   "execution_count": 33,
   "metadata": {},
   "outputs": [
    {
     "data": {
      "text/latex": [
       "$\\displaystyle \\frac{r_{1}}{p_{1} z - 1} + \\frac{r_{2}}{p_{2} z - 1}$"
      ],
      "text/plain": [
       "r1/(p1*z - 1) + r2/(p2*z - 1)"
      ]
     },
     "execution_count": 33,
     "metadata": {},
     "output_type": "execute_result"
    }
   ],
   "source": [
    "R"
   ]
  },
  {
   "cell_type": "markdown",
   "metadata": {},
   "source": [
    "Let's study a numerical example with 5 poles:"
   ]
  },
  {
   "cell_type": "code",
   "execution_count": 34,
   "metadata": {},
   "outputs": [],
   "source": [
    "import sympy as sp\n",
    "z = sp.symbols('z')\n",
    "s={}; F=[]\n",
    "r1,r2,r3,r4,r5 = 1,2,3,4,5\n",
    "m1,m2,m3,m4,m5 = 6,7,8,9,10\n",
    "P = 5\n",
    "G = r1/(1-z*m1) + r2/(1-z*m2) + r3/(1-z*m3) + r4/(1-z*m4) + r5/(1-z*m5)\n",
    "term = sp.series(G,z,0,n=None)\n",
    "for k in range(2*P):\n",
    "    s[k]=next(term).coeff(z,k)\n",
    "    F.append(s[k])"
   ]
  },
  {
   "cell_type": "code",
   "execution_count": 35,
   "metadata": {},
   "outputs": [],
   "source": [
    "S,P = 0,5\n",
    "q,e = {},{}\n",
    "for k in range(2*P):\n",
    "    S += s[k]*z**k\n",
    "q[-2], q[-1], e[-2], e[-1] = 0,1,1,1\n",
    "for k in range(2*P):\n",
    "    e[k] = ((S*q[k-1]).expand()).coeff(z,k)\n",
    "    q[k] = (((e[k-1]*q[k-1]- z*e[k]*q[k-2])/e[k-2]).expand()).simplify()"
   ]
  },
  {
   "cell_type": "code",
   "execution_count": 36,
   "metadata": {},
   "outputs": [],
   "source": [
    "J = sp.matrices.zeros(P)\n",
    "for k in range(P):\n",
    "    if k == 0:\n",
    "        J[0,0] = e[-2]//e[-1]*e[2*k+1]/e[2*k]\n",
    "    else:\n",
    "        J[k,k] = e[2*k]/e[2*k-1]*e[2*k-3]/e[2*k-2] + e[2*k-2]/e[2*k-1]*e[2*k+1]/e[2*k]\n",
    "        J[k,k-1]=e[2*k-4]/e[2*k-2]*e[2*k]/e[2*k-2]\n",
    "    if k != P-1:\n",
    "        J[k,k+1]=1\n",
    "J.simplify()"
   ]
  },
  {
   "cell_type": "code",
   "execution_count": 37,
   "metadata": {},
   "outputs": [],
   "source": [
    "V,D = J.diagonalize()\n",
    "D.simplify()\n",
    "V1 = V.inv()\n",
    "R = 0\n",
    "for j in range(P):\n",
    "    R += sp.simplify(s[0]*V[0,j]*V1[j,0]/(1-z*D[j,j]))"
   ]
  },
  {
   "cell_type": "markdown",
   "metadata": {},
   "source": [
    "The rational function calculated by the algorithm reproduces the original one:"
   ]
  },
  {
   "cell_type": "code",
   "execution_count": 38,
   "metadata": {},
   "outputs": [
    {
     "data": {
      "text/latex": [
       "$\\displaystyle - \\frac{5}{10 z - 1} - \\frac{4}{9 z - 1} - \\frac{3}{8 z - 1} - \\frac{2}{7 z - 1} - \\frac{1}{6 z - 1}$"
      ],
      "text/plain": [
       "-5/(10*z - 1) - 4/(9*z - 1) - 3/(8*z - 1) - 2/(7*z - 1) - 1/(6*z - 1)"
      ]
     },
     "execution_count": 38,
     "metadata": {},
     "output_type": "execute_result"
    }
   ],
   "source": [
    "R"
   ]
  },
  {
   "cell_type": "markdown",
   "metadata": {},
   "source": [
    "If we look at the J matrix, we see that elements are kept ar fractions, even the eigenvalues are calculated in exact arithmetic"
   ]
  },
  {
   "cell_type": "code",
   "execution_count": 39,
   "metadata": {},
   "outputs": [
    {
     "data": {
      "text/latex": [
       "$\\displaystyle \\left[\\begin{matrix}\\frac{26}{3} & 1 & 0 & 0 & 0\\\\\\frac{14}{9} & \\frac{119}{15} & 1 & 0 & 0\\\\0 & \\frac{36}{25} & \\frac{274}{35} & 1 & 0\\\\0 & 0 & \\frac{54}{49} & \\frac{491}{63} & 1\\\\0 & 0 & 0 & \\frac{50}{81} & \\frac{70}{9}\\end{matrix}\\right]$"
      ],
      "text/plain": [
       "Matrix([\n",
       "[26/3,      1,      0,      0,    0],\n",
       "[14/9, 119/15,      1,      0,    0],\n",
       "[   0,  36/25, 274/35,      1,    0],\n",
       "[   0,      0,  54/49, 491/63,    1],\n",
       "[   0,      0,      0,  50/81, 70/9]])"
      ]
     },
     "execution_count": 39,
     "metadata": {},
     "output_type": "execute_result"
    }
   ],
   "source": [
    "J"
   ]
  },
  {
   "cell_type": "code",
   "execution_count": 40,
   "metadata": {},
   "outputs": [
    {
     "data": {
      "text/latex": [
       "$\\displaystyle \\left[\\begin{matrix}6 & 0 & 0 & 0 & 0\\\\0 & 7 & 0 & 0 & 0\\\\0 & 0 & 8 & 0 & 0\\\\0 & 0 & 0 & 9 & 0\\\\0 & 0 & 0 & 0 & 10\\end{matrix}\\right]$"
      ],
      "text/plain": [
       "Matrix([\n",
       "[6, 0, 0, 0,  0],\n",
       "[0, 7, 0, 0,  0],\n",
       "[0, 0, 8, 0,  0],\n",
       "[0, 0, 0, 9,  0],\n",
       "[0, 0, 0, 0, 10]])"
      ]
     },
     "execution_count": 40,
     "metadata": {},
     "output_type": "execute_result"
    }
   ],
   "source": [
    "D"
   ]
  },
  {
   "cell_type": "markdown",
   "metadata": {},
   "source": [
    "The algorithm in `pade_approx` converts the signal to integer values, obtains the polynomials and $e$ coeffcients with integer coefficient, and the J-matrix elements as fractions, and the end converts those fractions to floating point representation so that to take advantage of existing optimized linear algebra packages. At this point, the numerics are more stable and the risk of losing precision is much reduced, the advantage is a significant increase in speed."
   ]
  },
  {
   "cell_type": "code",
   "execution_count": 41,
   "metadata": {},
   "outputs": [],
   "source": [
    "import pade_approx"
   ]
  },
  {
   "cell_type": "code",
   "execution_count": 42,
   "metadata": {},
   "outputs": [
    {
     "data": {
      "text/plain": [
       "(array([10.,  9.,  8.,  7.,  6.]),\n",
       " array([5.00000000000001, 3.99999999999997, 3.00000000000000,\n",
       "        2.00000000000001, 1.00000000000001], dtype=object))"
      ]
     },
     "execution_count": 42,
     "metadata": {},
     "output_type": "execute_result"
    }
   ],
   "source": [
    "pade_approx.poles_zeros(F)"
   ]
  },
  {
   "cell_type": "markdown",
   "metadata": {},
   "source": [
    "Here is an extreme example with a rational function with 20 poles"
   ]
  },
  {
   "cell_type": "code",
   "execution_count": 43,
   "metadata": {},
   "outputs": [],
   "source": [
    "n = 20\n",
    "import sympy as sp\n",
    "z = sp.symbols('z')\n",
    "R = [1 + k for k in range(n)]\n",
    "Z = [n+1 + k for k in range(n)]\n",
    "G = 0\n",
    "S = []\n",
    "for k in range(n):\n",
    "    G += R[k]/(1-z*Z[k])\n",
    "term = sp.series(G,z,0,n=None)\n",
    "for k in range(2*n):\n",
    "    S.append(int(next(term).coeff(z,k)))"
   ]
  },
  {
   "cell_type": "code",
   "execution_count": 44,
   "metadata": {},
   "outputs": [
    {
     "data": {
      "text/plain": [
       "(array([40.00000001, 38.99999986, 38.00000064, 36.99999831, 36.00000223,\n",
       "        35.00000067, 33.99999179, 33.00001333, 31.99999663, 30.99997704,\n",
       "        30.00004684, 28.9999513 , 28.00003114, 26.99998783, 26.00000268,\n",
       "        24.99999948, 24.00000039, 22.99999977, 22.00000006, 20.99999999]),\n",
       " array([20.00000006, 18.99999861, 18.00001092, 16.99995274, 16.00013388,\n",
       "        14.99972993, 14.00040037, 12.99958107, 12.0002341 , 11.00012263,\n",
       "         9.99954367,  9.00055662,  7.99959311,  7.00018012,  5.99996592,\n",
       "         4.99998933,  4.00000943,  2.99999706,  2.00000047,  0.99999997]))"
      ]
     },
     "execution_count": 44,
     "metadata": {},
     "output_type": "execute_result"
    }
   ],
   "source": [
    "pade_approx.poles_zeros(S)"
   ]
  },
  {
   "cell_type": "markdown",
   "metadata": {},
   "source": [
    "The poles of a sinusoidal signal are complex and complex conjugate to each other"
   ]
  },
  {
   "cell_type": "code",
   "execution_count": 45,
   "metadata": {},
   "outputs": [
    {
     "name": "stdout",
     "output_type": "stream",
     "text": [
      "(0.9996988186962042+0.024541228522912288j)\n"
     ]
    }
   ],
   "source": [
    "n=512\n",
    "import numpy as np, matplotlib.pyplot as pl\n",
    "Factor=10**14\n",
    "S = np.asarray(np.cos(4*np.pi*np.arange(n)/n )*Factor,dtype=np.int64).tolist()\n",
    "print(np.exp(1j*4*np.pi/n))"
   ]
  },
  {
   "cell_type": "code",
   "execution_count": 46,
   "metadata": {},
   "outputs": [],
   "source": [
    "(L,R) = pade_approx.poles_zeros(S)"
   ]
  },
  {
   "cell_type": "markdown",
   "metadata": {},
   "source": [
    "The poles with the greatest residues are:"
   ]
  },
  {
   "cell_type": "code",
   "execution_count": 47,
   "metadata": {},
   "outputs": [
    {
     "data": {
      "text/plain": [
       "array([0.99969882-0.02454123j, 0.99969882+0.02454123j])"
      ]
     },
     "execution_count": 47,
     "metadata": {},
     "output_type": "execute_result"
    }
   ],
   "source": [
    "L[:2]"
   ]
  }
 ],
 "metadata": {
  "kernelspec": {
   "display_name": "Python 3",
   "language": "python",
   "name": "python3"
  },
  "language_info": {
   "codemirror_mode": {
    "name": "ipython",
    "version": 3
   },
   "file_extension": ".py",
   "mimetype": "text/x-python",
   "name": "python",
   "nbconvert_exporter": "python",
   "pygments_lexer": "ipython3",
   "version": "3.10.4"
  },
  "vscode": {
   "interpreter": {
    "hash": "3ad933181bd8a04b432d3370b9dc3b0662ad032c4dfaa4e4f1596c548f763858"
   }
  }
 },
 "nbformat": 4,
 "nbformat_minor": 4
}
